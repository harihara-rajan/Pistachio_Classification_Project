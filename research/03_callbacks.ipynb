{
 "cells": [
  {
   "cell_type": "code",
   "execution_count": 1,
   "metadata": {},
   "outputs": [
    {
     "data": {
      "text/plain": [
       "'E:\\\\Pistachio_Classification_Project'"
      ]
     },
     "execution_count": 1,
     "metadata": {},
     "output_type": "execute_result"
    }
   ],
   "source": [
    "import os \n",
    "# since notebook wd is /home/pistachio/pistachio/research/trials.ipynb, changning \n",
    "# wd to E:\\Pistachio_Classification_Project\n",
    "%pwd\n",
    "from pathlib import Path\n",
    "os.chdir(Path(\"E:/Pistachio_Classification_Project\"))\n",
    "%pwd"
   ]
  },
  {
   "cell_type": "markdown",
   "metadata": {},
   "source": [
    "### 1. edit config.yaml\n",
    "prepare_callbacks:\n",
    "    root_dir: artifacts/prepare_callbacks\n",
    "    tensorboard_root_log_dir: artifacts/prepare_callbacks/tensorboard_root_log_dir\n",
    "    checkpoint_model_filepath: artifacts/prepare_callbacks/checkpoint_dir/model.h5\n"
   ]
  },
  {
   "cell_type": "markdown",
   "metadata": {},
   "source": [
    "### 3.update the entity "
   ]
  },
  {
   "cell_type": "code",
   "execution_count": 2,
   "metadata": {},
   "outputs": [],
   "source": [
    "from dataclasses import dataclass\n",
    "from pathlib import Path \n",
    "@dataclass(frozen=True)\n",
    "class PrepareCallbacksConfig:\n",
    "    root_dir: Path \n",
    "    tensorboard_root_log_dir:Path\n",
    "    checkpoint_model_file_path: Path\n",
    "    patience: int\n",
    "    monitor: str "
   ]
  },
  {
   "cell_type": "markdown",
   "metadata": {},
   "source": [
    "### 4. Updating the configuration Manager in src/config/configuration.py"
   ]
  },
  {
   "cell_type": "code",
   "execution_count": 3,
   "metadata": {},
   "outputs": [],
   "source": [
    "from cnnClassifier.constants.__init__ import CONFIG_FILE_PATH, PARAMS_FILE_PATH\n",
    "from cnnClassifier.utils.common import read_yaml, create_directories\n",
    "from pathlib import Path\n",
    "class ConfigurationManager:\n",
    "    def __init__(\n",
    "        self, \n",
    "        config_file_path = CONFIG_FILE_PATH,\n",
    "        params_file_path = PARAMS_FILE_PATH):\n",
    "\n",
    "        self.config= read_yaml(config_file_path) # return ConfigBox object with 'artifacts_root' as a key name\n",
    "        self.params= read_yaml(params_file_path)\n",
    "        create_directories([self.config.artifacts_root])\n",
    "    \n",
    "    def prepare_callbacks(self)->PrepareCallbacksConfig:\n",
    "        config = self.config.prepare_callbacks\n",
    "        # create directories\n",
    "        model_checkpoint_dir = os.path.dirname(config.checkpoint_model_filepath)\n",
    "        create_directories([Path(model_checkpoint_dir), Path(config.tensorboard_root_log_dir)])\n",
    "        prepare_callbacks_config = PrepareCallbacksConfig(\n",
    "            root_dir = Path(config.root_dir),  \n",
    "            tensorboard_root_log_dir = Path(config.tensorboard_root_log_dir),  \n",
    "            checkpoint_model_file_path = Path(config.checkpoint_model_filepath), \n",
    "            patience= self.params.PATIENCE, \n",
    "            monitor= self.params.MONITOR)  \n",
    "\n",
    "        return prepare_callbacks_config"
   ]
  },
  {
   "cell_type": "markdown",
   "metadata": {},
   "source": [
    "### 5. Updating the components"
   ]
  },
  {
   "cell_type": "code",
   "execution_count": 4,
   "metadata": {},
   "outputs": [],
   "source": [
    "import os \n",
    "import urllib.request as request\n",
    "from zipfile import ZipFile\n",
    "import tensorflow as tf\n",
    "import time "
   ]
  },
  {
   "cell_type": "code",
   "execution_count": 5,
   "metadata": {},
   "outputs": [],
   "source": [
    "class PrepareCallbacks:\n",
    "    def __init__(self,  config: PrepareCallbacksConfig):\n",
    "        self.config = config\n",
    "    \n",
    "    def model_checkpoint_callbacks(self)-> tf.keras.callbacks.ModelCheckpoint:\n",
    "        model_checkpoint = tf.keras.callbacks.ModelCheckpoint(\n",
    "            filepath=self.config.checkpoint_model_file_path,\n",
    "            monitor='val_loss',\n",
    "            verbose=1,\n",
    "            save_best_only=True,\n",
    "            save_weights_only=True,\n",
    "            mode='auto',\n",
    "            save_freq=\"epoch\")\n",
    "        \n",
    "        return model_checkpoint\n",
    "\n",
    "    def early_stopping_callbacks(self)-> tf.keras.callbacks.EarlyStopping:\n",
    "        early_stopping = tf.keras.callbacks.EarlyStopping(\n",
    "            monitor='val_loss',\n",
    "            min_delta=0,\n",
    "            patience=self.config.patience,\n",
    "            verbose=1,\n",
    "            mode='auto',\n",
    "            restore_best_weights=True)\n",
    "        \n",
    "        return early_stopping\n",
    "    \n",
    "    def tensorboard_callbacks(self)-> tf.keras.callbacks.TensorBoard:\n",
    "        log_dir = str(Path(self.config.tensorboard_root_log_dir))\n",
    "        tb_callbacks = tf.keras.callbacks.TensorBoard(log_dir=log_dir,write_images=True)\n",
    "        return tb_callbacks\n",
    "    \n",
    "    \n",
    "    "
   ]
  },
  {
   "cell_type": "markdown",
   "metadata": {},
   "source": [
    "### 6. Update the pipeline"
   ]
  },
  {
   "cell_type": "code",
   "execution_count": 6,
   "metadata": {},
   "outputs": [
    {
     "name": "stdout",
     "output_type": "stream",
     "text": [
      "[2023-11-03 10:55:12,325: INFO : common : yaml file: config\\config.yaml loaded successfully]\n",
      "[2023-11-03 10:55:12,328: INFO : common : yaml file: params.yaml loaded successfully]\n",
      "[2023-11-03 10:55:12,329: INFO : common : created directory at: artifacts]\n",
      "[2023-11-03 10:55:12,330: INFO : common : created directory at: artifacts\\prepare_callbacks\\checkpoint_dir]\n",
      "[2023-11-03 10:55:12,331: INFO : common : created directory at: artifacts\\prepare_callbacks\\tensorboard_root_log_dir]\n"
     ]
    }
   ],
   "source": [
    "try:\n",
    "    conf_manager = ConfigurationManager()\n",
    "    prepare_callbacks = conf_manager.prepare_callbacks()\n",
    "    callbacks = PrepareCallbacks(prepare_callbacks)\n",
    "    callbacks_cp = callbacks.model_checkpoint_callbacks\n",
    "    callbacks_es = callbacks.early_stopping_callbacks\n",
    "    callbacks_tb = callbacks.early_stopping_callbacks\n",
    "except Exception as e:\n",
    "    raise e"
   ]
  },
  {
   "cell_type": "markdown",
   "metadata": {},
   "source": [
    "### Final Step -> Convert everything into modular coding\n",
    "1. we have already updated the config/config.yaml file for the creating base cnn model\n",
    "2. we also have updated the params.yaml file \n",
    "3. now update the enity  (copy entity code blocks to src/entity/config_enity.py)\n",
    "4. update configuration manager in src config(copy ConfigManager code blocks to src/config/configuration.py)\n",
    "5. update the components (copy component code blocks to src/components/createnewfile(base_model.py))\n",
    "6. update the pipeline(copy pipeline code blocks to src/pipeine/stage_02_base_model.py)\n",
    "7. update the main file"
   ]
  }
 ],
 "metadata": {
  "kernelspec": {
   "display_name": "pistachio",
   "language": "python",
   "name": "python3"
  },
  "language_info": {
   "codemirror_mode": {
    "name": "ipython",
    "version": 3
   },
   "file_extension": ".py",
   "mimetype": "text/x-python",
   "name": "python",
   "nbconvert_exporter": "python",
   "pygments_lexer": "ipython3",
   "version": "3.11.2"
  }
 },
 "nbformat": 4,
 "nbformat_minor": 2
}
